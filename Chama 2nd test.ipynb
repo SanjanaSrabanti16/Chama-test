{
 "cells": [
  {
   "cell_type": "code",
   "execution_count": 13,
   "id": "438dc5ad",
   "metadata": {},
   "outputs": [
    {
     "name": "stdout",
     "output_type": "stream",
     "text": [
      "Requirement already satisfied: chama in c:\\users\\evladmin\\anaconda3\\lib\\site-packages (0.1.3)\n",
      "Requirement already satisfied: scipy in c:\\users\\evladmin\\anaconda3\\lib\\site-packages (from chama) (1.6.2)\n",
      "Requirement already satisfied: pandas in c:\\users\\evladmin\\anaconda3\\lib\\site-packages (from chama) (1.2.4)\n",
      "Requirement already satisfied: pyomo in c:\\users\\evladmin\\anaconda3\\lib\\site-packages (from chama) (6.2)\n",
      "Requirement already satisfied: numpy in c:\\users\\evladmin\\anaconda3\\lib\\site-packages (from chama) (1.20.1)\n",
      "Requirement already satisfied: pytz>=2017.3 in c:\\users\\evladmin\\anaconda3\\lib\\site-packages (from pandas->chama) (2021.1)\n",
      "Requirement already satisfied: python-dateutil>=2.7.3 in c:\\users\\evladmin\\anaconda3\\lib\\site-packages (from pandas->chama) (2.8.1)\n",
      "Requirement already satisfied: six>=1.5 in c:\\users\\evladmin\\anaconda3\\lib\\site-packages (from python-dateutil>=2.7.3->pandas->chama) (1.15.0)\n",
      "Requirement already satisfied: ply in c:\\users\\evladmin\\anaconda3\\lib\\site-packages (from pyomo->chama) (3.11)\n"
     ]
    }
   ],
   "source": [
    "!pip install chama"
   ]
  },
  {
   "cell_type": "code",
   "execution_count": 14,
   "id": "14a958d8",
   "metadata": {},
   "outputs": [],
   "source": [
    "import numpy as np\n",
    "import pandas as pd\n",
    "import chama"
   ]
  },
  {
   "cell_type": "code",
   "execution_count": 15,
   "id": "dd47564c",
   "metadata": {},
   "outputs": [
    {
     "data": {
      "text/html": [
       "<div>\n",
       "<style scoped>\n",
       "    .dataframe tbody tr th:only-of-type {\n",
       "        vertical-align: middle;\n",
       "    }\n",
       "\n",
       "    .dataframe tbody tr th {\n",
       "        vertical-align: top;\n",
       "    }\n",
       "\n",
       "    .dataframe thead th {\n",
       "        text-align: right;\n",
       "    }\n",
       "</style>\n",
       "<table border=\"1\" class=\"dataframe\">\n",
       "  <thead>\n",
       "    <tr style=\"text-align: right;\">\n",
       "      <th></th>\n",
       "      <th>X</th>\n",
       "      <th>Y</th>\n",
       "      <th>Z</th>\n",
       "      <th>T</th>\n",
       "      <th>S1</th>\n",
       "      <th>S2</th>\n",
       "      <th>S3</th>\n",
       "    </tr>\n",
       "  </thead>\n",
       "  <tbody>\n",
       "    <tr>\n",
       "      <th>0</th>\n",
       "      <td>1</td>\n",
       "      <td>1</td>\n",
       "      <td>1</td>\n",
       "      <td>0</td>\n",
       "      <td>0.00</td>\n",
       "      <td>0.00</td>\n",
       "      <td>0.00</td>\n",
       "    </tr>\n",
       "    <tr>\n",
       "      <th>1</th>\n",
       "      <td>1</td>\n",
       "      <td>1</td>\n",
       "      <td>1</td>\n",
       "      <td>10</td>\n",
       "      <td>0.00</td>\n",
       "      <td>0.00</td>\n",
       "      <td>0.01</td>\n",
       "    </tr>\n",
       "    <tr>\n",
       "      <th>2</th>\n",
       "      <td>1</td>\n",
       "      <td>1</td>\n",
       "      <td>1</td>\n",
       "      <td>20</td>\n",
       "      <td>0.00</td>\n",
       "      <td>0.00</td>\n",
       "      <td>0.00</td>\n",
       "    </tr>\n",
       "    <tr>\n",
       "      <th>3</th>\n",
       "      <td>1</td>\n",
       "      <td>1</td>\n",
       "      <td>1</td>\n",
       "      <td>30</td>\n",
       "      <td>0.00</td>\n",
       "      <td>0.55</td>\n",
       "      <td>0.65</td>\n",
       "    </tr>\n",
       "    <tr>\n",
       "      <th>4</th>\n",
       "      <td>2</td>\n",
       "      <td>1</td>\n",
       "      <td>1</td>\n",
       "      <td>0</td>\n",
       "      <td>0.25</td>\n",
       "      <td>0.21</td>\n",
       "      <td>0.20</td>\n",
       "    </tr>\n",
       "    <tr>\n",
       "      <th>5</th>\n",
       "      <td>2</td>\n",
       "      <td>1</td>\n",
       "      <td>1</td>\n",
       "      <td>10</td>\n",
       "      <td>0.32</td>\n",
       "      <td>0.14</td>\n",
       "      <td>0.25</td>\n",
       "    </tr>\n",
       "    <tr>\n",
       "      <th>6</th>\n",
       "      <td>2</td>\n",
       "      <td>1</td>\n",
       "      <td>1</td>\n",
       "      <td>20</td>\n",
       "      <td>0.45</td>\n",
       "      <td>0.58</td>\n",
       "      <td>0.61</td>\n",
       "    </tr>\n",
       "    <tr>\n",
       "      <th>7</th>\n",
       "      <td>2</td>\n",
       "      <td>1</td>\n",
       "      <td>1</td>\n",
       "      <td>30</td>\n",
       "      <td>0.65</td>\n",
       "      <td>0.42</td>\n",
       "      <td>0.95</td>\n",
       "    </tr>\n",
       "    <tr>\n",
       "      <th>8</th>\n",
       "      <td>1</td>\n",
       "      <td>2</td>\n",
       "      <td>1</td>\n",
       "      <td>0</td>\n",
       "      <td>0.23</td>\n",
       "      <td>0.47</td>\n",
       "      <td>0.32</td>\n",
       "    </tr>\n",
       "    <tr>\n",
       "      <th>9</th>\n",
       "      <td>1</td>\n",
       "      <td>2</td>\n",
       "      <td>1</td>\n",
       "      <td>10</td>\n",
       "      <td>0.64</td>\n",
       "      <td>0.12</td>\n",
       "      <td>0.15</td>\n",
       "    </tr>\n",
       "    <tr>\n",
       "      <th>10</th>\n",
       "      <td>1</td>\n",
       "      <td>2</td>\n",
       "      <td>1</td>\n",
       "      <td>20</td>\n",
       "      <td>0.25</td>\n",
       "      <td>0.54</td>\n",
       "      <td>0.24</td>\n",
       "    </tr>\n",
       "    <tr>\n",
       "      <th>11</th>\n",
       "      <td>1</td>\n",
       "      <td>2</td>\n",
       "      <td>1</td>\n",
       "      <td>30</td>\n",
       "      <td>0.00</td>\n",
       "      <td>0.00</td>\n",
       "      <td>0.55</td>\n",
       "    </tr>\n",
       "    <tr>\n",
       "      <th>12</th>\n",
       "      <td>2</td>\n",
       "      <td>2</td>\n",
       "      <td>1</td>\n",
       "      <td>0</td>\n",
       "      <td>0.44</td>\n",
       "      <td>0.15</td>\n",
       "      <td>0.45</td>\n",
       "    </tr>\n",
       "    <tr>\n",
       "      <th>13</th>\n",
       "      <td>2</td>\n",
       "      <td>2</td>\n",
       "      <td>1</td>\n",
       "      <td>10</td>\n",
       "      <td>0.25</td>\n",
       "      <td>0.28</td>\n",
       "      <td>0.68</td>\n",
       "    </tr>\n",
       "    <tr>\n",
       "      <th>14</th>\n",
       "      <td>2</td>\n",
       "      <td>2</td>\n",
       "      <td>1</td>\n",
       "      <td>20</td>\n",
       "      <td>0.82</td>\n",
       "      <td>0.12</td>\n",
       "      <td>0.13</td>\n",
       "    </tr>\n",
       "    <tr>\n",
       "      <th>15</th>\n",
       "      <td>2</td>\n",
       "      <td>2</td>\n",
       "      <td>1</td>\n",
       "      <td>30</td>\n",
       "      <td>0.82</td>\n",
       "      <td>0.12</td>\n",
       "      <td>0.65</td>\n",
       "    </tr>\n",
       "    <tr>\n",
       "      <th>16</th>\n",
       "      <td>1</td>\n",
       "      <td>1</td>\n",
       "      <td>2</td>\n",
       "      <td>0</td>\n",
       "      <td>0.96</td>\n",
       "      <td>0.53</td>\n",
       "      <td>0.64</td>\n",
       "    </tr>\n",
       "    <tr>\n",
       "      <th>17</th>\n",
       "      <td>1</td>\n",
       "      <td>1</td>\n",
       "      <td>2</td>\n",
       "      <td>10</td>\n",
       "      <td>0.61</td>\n",
       "      <td>0.23</td>\n",
       "      <td>0.21</td>\n",
       "    </tr>\n",
       "    <tr>\n",
       "      <th>18</th>\n",
       "      <td>1</td>\n",
       "      <td>1</td>\n",
       "      <td>2</td>\n",
       "      <td>20</td>\n",
       "      <td>0.92</td>\n",
       "      <td>0.82</td>\n",
       "      <td>0.92</td>\n",
       "    </tr>\n",
       "    <tr>\n",
       "      <th>19</th>\n",
       "      <td>1</td>\n",
       "      <td>1</td>\n",
       "      <td>2</td>\n",
       "      <td>30</td>\n",
       "      <td>0.98</td>\n",
       "      <td>0.45</td>\n",
       "      <td>0.73</td>\n",
       "    </tr>\n",
       "    <tr>\n",
       "      <th>20</th>\n",
       "      <td>2</td>\n",
       "      <td>1</td>\n",
       "      <td>2</td>\n",
       "      <td>0</td>\n",
       "      <td>0.41</td>\n",
       "      <td>0.84</td>\n",
       "      <td>0.75</td>\n",
       "    </tr>\n",
       "    <tr>\n",
       "      <th>21</th>\n",
       "      <td>2</td>\n",
       "      <td>1</td>\n",
       "      <td>2</td>\n",
       "      <td>10</td>\n",
       "      <td>0.42</td>\n",
       "      <td>0.87</td>\n",
       "      <td>0.98</td>\n",
       "    </tr>\n",
       "    <tr>\n",
       "      <th>22</th>\n",
       "      <td>2</td>\n",
       "      <td>1</td>\n",
       "      <td>2</td>\n",
       "      <td>20</td>\n",
       "      <td>0.00</td>\n",
       "      <td>0.51</td>\n",
       "      <td>0.55</td>\n",
       "    </tr>\n",
       "    <tr>\n",
       "      <th>23</th>\n",
       "      <td>2</td>\n",
       "      <td>1</td>\n",
       "      <td>2</td>\n",
       "      <td>30</td>\n",
       "      <td>0.73</td>\n",
       "      <td>0.37</td>\n",
       "      <td>0.11</td>\n",
       "    </tr>\n",
       "    <tr>\n",
       "      <th>24</th>\n",
       "      <td>1</td>\n",
       "      <td>2</td>\n",
       "      <td>2</td>\n",
       "      <td>0</td>\n",
       "      <td>0.00</td>\n",
       "      <td>0.00</td>\n",
       "      <td>0.13</td>\n",
       "    </tr>\n",
       "    <tr>\n",
       "      <th>25</th>\n",
       "      <td>1</td>\n",
       "      <td>2</td>\n",
       "      <td>2</td>\n",
       "      <td>10</td>\n",
       "      <td>0.00</td>\n",
       "      <td>0.00</td>\n",
       "      <td>0.00</td>\n",
       "    </tr>\n",
       "    <tr>\n",
       "      <th>26</th>\n",
       "      <td>1</td>\n",
       "      <td>2</td>\n",
       "      <td>2</td>\n",
       "      <td>20</td>\n",
       "      <td>0.00</td>\n",
       "      <td>0.00</td>\n",
       "      <td>0.00</td>\n",
       "    </tr>\n",
       "    <tr>\n",
       "      <th>27</th>\n",
       "      <td>1</td>\n",
       "      <td>2</td>\n",
       "      <td>2</td>\n",
       "      <td>30</td>\n",
       "      <td>0.87</td>\n",
       "      <td>0.45</td>\n",
       "      <td>0.62</td>\n",
       "    </tr>\n",
       "    <tr>\n",
       "      <th>28</th>\n",
       "      <td>2</td>\n",
       "      <td>2</td>\n",
       "      <td>2</td>\n",
       "      <td>0</td>\n",
       "      <td>0.00</td>\n",
       "      <td>0.00</td>\n",
       "      <td>0.00</td>\n",
       "    </tr>\n",
       "    <tr>\n",
       "      <th>29</th>\n",
       "      <td>2</td>\n",
       "      <td>2</td>\n",
       "      <td>2</td>\n",
       "      <td>10</td>\n",
       "      <td>0.00</td>\n",
       "      <td>0.00</td>\n",
       "      <td>0.00</td>\n",
       "    </tr>\n",
       "    <tr>\n",
       "      <th>30</th>\n",
       "      <td>2</td>\n",
       "      <td>2</td>\n",
       "      <td>2</td>\n",
       "      <td>20</td>\n",
       "      <td>0.00</td>\n",
       "      <td>0.00</td>\n",
       "      <td>0.00</td>\n",
       "    </tr>\n",
       "    <tr>\n",
       "      <th>31</th>\n",
       "      <td>2</td>\n",
       "      <td>2</td>\n",
       "      <td>2</td>\n",
       "      <td>30</td>\n",
       "      <td>0.00</td>\n",
       "      <td>0.11</td>\n",
       "      <td>0.22</td>\n",
       "    </tr>\n",
       "  </tbody>\n",
       "</table>\n",
       "</div>"
      ],
      "text/plain": [
       "    X  Y  Z   T    S1    S2    S3\n",
       "0   1  1  1   0  0.00  0.00  0.00\n",
       "1   1  1  1  10  0.00  0.00  0.01\n",
       "2   1  1  1  20  0.00  0.00  0.00\n",
       "3   1  1  1  30  0.00  0.55  0.65\n",
       "4   2  1  1   0  0.25  0.21  0.20\n",
       "5   2  1  1  10  0.32  0.14  0.25\n",
       "6   2  1  1  20  0.45  0.58  0.61\n",
       "7   2  1  1  30  0.65  0.42  0.95\n",
       "8   1  2  1   0  0.23  0.47  0.32\n",
       "9   1  2  1  10  0.64  0.12  0.15\n",
       "10  1  2  1  20  0.25  0.54  0.24\n",
       "11  1  2  1  30  0.00  0.00  0.55\n",
       "12  2  2  1   0  0.44  0.15  0.45\n",
       "13  2  2  1  10  0.25  0.28  0.68\n",
       "14  2  2  1  20  0.82  0.12  0.13\n",
       "15  2  2  1  30  0.82  0.12  0.65\n",
       "16  1  1  2   0  0.96  0.53  0.64\n",
       "17  1  1  2  10  0.61  0.23  0.21\n",
       "18  1  1  2  20  0.92  0.82  0.92\n",
       "19  1  1  2  30  0.98  0.45  0.73\n",
       "20  2  1  2   0  0.41  0.84  0.75\n",
       "21  2  1  2  10  0.42  0.87  0.98\n",
       "22  2  1  2  20  0.00  0.51  0.55\n",
       "23  2  1  2  30  0.73  0.37  0.11\n",
       "24  1  2  2   0  0.00  0.00  0.13\n",
       "25  1  2  2  10  0.00  0.00  0.00\n",
       "26  1  2  2  20  0.00  0.00  0.00\n",
       "27  1  2  2  30  0.87  0.45  0.62\n",
       "28  2  2  2   0  0.00  0.00  0.00\n",
       "29  2  2  2  10  0.00  0.00  0.00\n",
       "30  2  2  2  20  0.00  0.00  0.00\n",
       "31  2  2  2  30  0.00  0.11  0.22"
      ]
     },
     "execution_count": 15,
     "metadata": {},
     "output_type": "execute_result"
    }
   ],
   "source": [
    "#signal data read\n",
    "df = pd.read_csv('data1.csv')\n",
    "signal = pd.DataFrame(data=df)\n",
    "signal"
   ]
  },
  {
   "cell_type": "code",
   "execution_count": 50,
   "id": "b6b3b319",
   "metadata": {},
   "outputs": [],
   "source": [
    "pos1 = chama.sensors.Stationary(location=(2,2,1))\n",
    "det1 = chama.sensors.Point(threshold=0.001, sample_times=list(signal[\"T\"].unique()))\n",
    "stationary_pt_sensor = chama.sensors.Sensor(position=pos1, detector=det1)"
   ]
  },
  {
   "cell_type": "code",
   "execution_count": 51,
   "id": "2f40d533",
   "metadata": {},
   "outputs": [],
   "source": [
    "pos2 = chama.sensors.Mobile(locations=[(0,0,0),(1,0,0),(1,3,0),(1,2,1)],speed=1.2)\n",
    "det2 = chama.sensors.Point(threshold=0.001, sample_times=[0,10,20])\n",
    "mobile_pt_sensor = chama.sensors.Sensor(position=pos2, detector=det2)"
   ]
  },
  {
   "cell_type": "code",
   "execution_count": 52,
   "id": "eb3f1dfd",
   "metadata": {},
   "outputs": [],
   "source": [
    "pos3 = chama.sensors.Stationary(location=(2,2,1))\n",
    "det3 = chama.sensors.Camera(threshold=400, sample_times=list(signal[\"T\"].unique()), direction=(1,1,1))\n",
    "stationary_camera_sensor = chama.sensors.Sensor(position=pos3, detector=det3)"
   ]
  },
  {
   "cell_type": "code",
   "execution_count": 53,
   "id": "478c2470",
   "metadata": {},
   "outputs": [],
   "source": [
    "pos4 = chama.sensors.Mobile(locations=[(0,1,1),(0.1,1.2,1),(1,3,0),(1,2,1)],speed=0.5)\n",
    "det4 = chama.sensors.Camera(threshold=100, sample_times=[0,10,20], direction=(1,1,1))\n",
    "mobile_camera_sensor = chama.sensors.Sensor(position=pos4, detector=det4)"
   ]
  },
  {
   "cell_type": "code",
   "execution_count": 54,
   "id": "adac572b",
   "metadata": {},
   "outputs": [],
   "source": [
    "x_grid = np.linspace(-100, 100, 21)\n",
    "y_grid = np.linspace(-100, 100, 21)\n",
    "z_grid = np.linspace(0, 40, 21)\n",
    "grid = chama.simulation.Grid(x_grid, y_grid, z_grid)\n",
    "source = chama.simulation.Source(-20, 20, 1, 1.5)\n",
    "\n"
   ]
  },
  {
   "cell_type": "code",
   "execution_count": 55,
   "id": "497c6d64",
   "metadata": {},
   "outputs": [
    {
     "name": "stdout",
     "output_type": "stream",
     "text": [
      "   X  Y  Z   T    S1    S2    S3\n",
      "0  1  1  1   0  0.00  0.00  0.00\n",
      "1  1  1  1  10  0.00  0.00  0.01\n",
      "2  1  1  1  20  0.00  0.00  0.00\n",
      "3  1  1  1  30  0.00  0.55  0.65\n",
      "4  2  1  1   0  0.25  0.21  0.20\n"
     ]
    }
   ],
   "source": [
    "#signal = pd.DataFrame(data=signal1)\n",
    "print(signal.head( ))\n",
    "#print(signal.head(5))"
   ]
  },
  {
   "cell_type": "code",
   "execution_count": 56,
   "id": "a8156009",
   "metadata": {},
   "outputs": [],
   "source": [
    "sensors = dict()\n",
    "sensors['A'] = stationary_pt_sensor\n",
    "sensors['B'] = mobile_pt_sensor\n",
    "sensors['C'] = stationary_camera_sensor\n",
    "sensors['D'] = mobile_camera_sensor"
   ]
  },
  {
   "cell_type": "code",
   "execution_count": 57,
   "id": "b44e99d3",
   "metadata": {},
   "outputs": [],
   "source": [
    "#test extraxt detection time\n",
    "det_times = chama.impact.extract_detection_times(signal, sensors, interp_method=None, min_distance=30.0)"
   ]
  },
  {
   "cell_type": "code",
   "execution_count": 58,
   "id": "43770b6b",
   "metadata": {},
   "outputs": [
    {
     "data": {
      "text/html": [
       "<div>\n",
       "<style scoped>\n",
       "    .dataframe tbody tr th:only-of-type {\n",
       "        vertical-align: middle;\n",
       "    }\n",
       "\n",
       "    .dataframe tbody tr th {\n",
       "        vertical-align: top;\n",
       "    }\n",
       "\n",
       "    .dataframe thead th {\n",
       "        text-align: right;\n",
       "    }\n",
       "</style>\n",
       "<table border=\"1\" class=\"dataframe\">\n",
       "  <thead>\n",
       "    <tr style=\"text-align: right;\">\n",
       "      <th></th>\n",
       "      <th>Scenario</th>\n",
       "      <th>Sensor</th>\n",
       "      <th>Detection Times</th>\n",
       "    </tr>\n",
       "  </thead>\n",
       "  <tbody>\n",
       "    <tr>\n",
       "      <th>0</th>\n",
       "      <td>S1</td>\n",
       "      <td>A</td>\n",
       "      <td>[0, 10, 20, 30]</td>\n",
       "    </tr>\n",
       "    <tr>\n",
       "      <th>1</th>\n",
       "      <td>S1</td>\n",
       "      <td>C</td>\n",
       "      <td>[0, 10, 20, 30]</td>\n",
       "    </tr>\n",
       "    <tr>\n",
       "      <th>2</th>\n",
       "      <td>S2</td>\n",
       "      <td>A</td>\n",
       "      <td>[0, 10, 20, 30]</td>\n",
       "    </tr>\n",
       "    <tr>\n",
       "      <th>3</th>\n",
       "      <td>S2</td>\n",
       "      <td>C</td>\n",
       "      <td>[10]</td>\n",
       "    </tr>\n",
       "    <tr>\n",
       "      <th>4</th>\n",
       "      <td>S3</td>\n",
       "      <td>A</td>\n",
       "      <td>[0, 10, 20, 30]</td>\n",
       "    </tr>\n",
       "    <tr>\n",
       "      <th>5</th>\n",
       "      <td>S3</td>\n",
       "      <td>C</td>\n",
       "      <td>[0, 10, 30]</td>\n",
       "    </tr>\n",
       "  </tbody>\n",
       "</table>\n",
       "</div>"
      ],
      "text/plain": [
       "  Scenario Sensor  Detection Times\n",
       "0       S1      A  [0, 10, 20, 30]\n",
       "1       S1      C  [0, 10, 20, 30]\n",
       "2       S2      A  [0, 10, 20, 30]\n",
       "3       S2      C             [10]\n",
       "4       S3      A  [0, 10, 20, 30]\n",
       "5       S3      C      [0, 10, 30]"
      ]
     },
     "execution_count": 58,
     "metadata": {},
     "output_type": "execute_result"
    }
   ],
   "source": [
    "#print(det_times)\n",
    "det_times"
   ]
  },
  {
   "cell_type": "code",
   "execution_count": 59,
   "id": "73bfb85a",
   "metadata": {},
   "outputs": [
    {
     "name": "stdout",
     "output_type": "stream",
     "text": [
      "  Scenario Sensor  Min       Mean  Median  Max  Count\n",
      "0       S1      A    0  15.000000    15.0   30      4\n",
      "1       S1      C    0  15.000000    15.0   30      4\n",
      "2       S2      A    0  15.000000    15.0   30      4\n",
      "3       S2      C   10  10.000000    10.0   10      1\n",
      "4       S3      A    0  15.000000    15.0   30      4\n",
      "5       S3      C    0  13.333333    10.0   30      3\n"
     ]
    }
   ],
   "source": [
    ">>> det_time_stats = chama.impact.detection_time_stats(det_times)\n",
    ">>> print(det_time_stats)"
   ]
  },
  {
   "cell_type": "code",
   "execution_count": 60,
   "id": "3b2bea38",
   "metadata": {},
   "outputs": [
    {
     "name": "stdout",
     "output_type": "stream",
     "text": [
      "  Scenario Sensor  Impact\n",
      "0       S1      A       0\n",
      "1       S1      C       0\n",
      "2       S2      A       0\n",
      "3       S2      C      10\n",
      "4       S3      A       0\n",
      "5       S3      C       0\n"
     ]
    }
   ],
   "source": [
    ">>> min_det_time = det_time_stats[['Scenario','Sensor','Min']]\n",
    ">>> min_det_time = min_det_time.rename(columns={'Min':'Impact'})\n",
    ">>> print(min_det_time)"
   ]
  },
  {
   "cell_type": "code",
   "execution_count": 61,
   "id": "c43a7699",
   "metadata": {},
   "outputs": [
    {
     "name": "stdout",
     "output_type": "stream",
     "text": [
      "  Scenario Sensor   T\n",
      "0       S1      A   0\n",
      "1       S1      C   0\n",
      "2       S2      A   0\n",
      "3       S2      C  10\n",
      "4       S3      A   0\n",
      "5       S3      C   0\n"
     ]
    }
   ],
   "source": [
    ">>> det_time = min_det_time.rename(columns={'Impact':'T'}, inplace=False)\n",
    ">>> print(det_time)"
   ]
  },
  {
   "cell_type": "code",
   "execution_count": 62,
   "id": "1ee74c16",
   "metadata": {},
   "outputs": [
    {
     "data": {
      "text/html": [
       "<div>\n",
       "<style scoped>\n",
       "    .dataframe tbody tr th:only-of-type {\n",
       "        vertical-align: middle;\n",
       "    }\n",
       "\n",
       "    .dataframe tbody tr th {\n",
       "        vertical-align: top;\n",
       "    }\n",
       "\n",
       "    .dataframe thead th {\n",
       "        text-align: right;\n",
       "    }\n",
       "</style>\n",
       "<table border=\"1\" class=\"dataframe\">\n",
       "  <thead>\n",
       "    <tr style=\"text-align: right;\">\n",
       "      <th></th>\n",
       "      <th>T</th>\n",
       "      <th>S1</th>\n",
       "      <th>S2</th>\n",
       "      <th>S3</th>\n",
       "    </tr>\n",
       "  </thead>\n",
       "  <tbody>\n",
       "    <tr>\n",
       "      <th>0</th>\n",
       "      <td>0</td>\n",
       "      <td>0</td>\n",
       "      <td>0</td>\n",
       "      <td>0</td>\n",
       "    </tr>\n",
       "    <tr>\n",
       "      <th>1</th>\n",
       "      <td>10</td>\n",
       "      <td>10000</td>\n",
       "      <td>5000</td>\n",
       "      <td>15000</td>\n",
       "    </tr>\n",
       "    <tr>\n",
       "      <th>2</th>\n",
       "      <td>20</td>\n",
       "      <td>40000</td>\n",
       "      <td>20000</td>\n",
       "      <td>50000</td>\n",
       "    </tr>\n",
       "    <tr>\n",
       "      <th>3</th>\n",
       "      <td>30</td>\n",
       "      <td>80000</td>\n",
       "      <td>75000</td>\n",
       "      <td>95000</td>\n",
       "    </tr>\n",
       "    <tr>\n",
       "      <th>4</th>\n",
       "      <td>40</td>\n",
       "      <td>100000</td>\n",
       "      <td>90000</td>\n",
       "      <td>150000</td>\n",
       "    </tr>\n",
       "  </tbody>\n",
       "</table>\n",
       "</div>"
      ],
      "text/plain": [
       "    T      S1     S2      S3\n",
       "0   0       0      0       0\n",
       "1  10   10000   5000   15000\n",
       "2  20   40000  20000   50000\n",
       "3  30   80000  75000   95000\n",
       "4  40  100000  90000  150000"
      ]
     },
     "execution_count": 62,
     "metadata": {},
     "output_type": "execute_result"
    }
   ],
   "source": [
    "df = pd.read_csv('impact_cost.csv')\n",
    "impact_cost  = pd.DataFrame(data=df)\n",
    "impact_cost"
   ]
  },
  {
   "cell_type": "code",
   "execution_count": 63,
   "id": "5a2dd7f4",
   "metadata": {},
   "outputs": [
    {
     "name": "stdout",
     "output_type": "stream",
     "text": [
      "  Scenario Sensor  Impact\n",
      "0       S1      A       0\n",
      "1       S1      C       0\n",
      "2       S2      A       0\n",
      "3       S2      C    5000\n",
      "4       S3      A       0\n",
      "5       S3      C       0\n"
     ]
    },
    {
     "name": "stderr",
     "output_type": "stream",
     "text": [
      "C:\\Users\\evladmin\\anaconda3\\lib\\site-packages\\chama\\impact.py:156: FutureWarning: The 'lookup' method is deprecated and will beremoved in a future version.You can use DataFrame.melt and DataFrame.locas a substitute.\n",
      "  det_damage['T'] = impact_data.lookup(detection_time['T'],\n"
     ]
    }
   ],
   "source": [
    ">>> impact_metric = chama.impact.detection_time_to_impact(det_time, impact_cost)\n",
    ">>> print(impact_metric)"
   ]
  },
  {
   "cell_type": "code",
   "execution_count": 64,
   "id": "4c7c4d3b",
   "metadata": {},
   "outputs": [
    {
     "name": "stdout",
     "output_type": "stream",
     "text": [
      "  Scenario Sensor  Detection Times\n",
      "0       S1      A  [0, 10, 20, 30]\n",
      "1       S1      C  [0, 10, 20, 30]\n",
      "2       S2      A  [0, 10, 20, 30]\n",
      "3       S2      C             [10]\n",
      "4       S3      A  [0, 10, 20, 30]\n",
      "5       S3      C      [0, 10, 30]\n"
     ]
    }
   ],
   "source": [
    ">>> print(det_times)"
   ]
  },
  {
   "cell_type": "code",
   "execution_count": 65,
   "id": "2b69effe",
   "metadata": {},
   "outputs": [
    {
     "name": "stdout",
     "output_type": "stream",
     "text": [
      "  Sensor      Coverage\n",
      "0      A  [S1, S2, S3]\n",
      "1      C  [S1, S2, S3]\n"
     ]
    }
   ],
   "source": [
    ">>> scenario_cov = chama.impact.detection_times_to_coverage(det_times, coverage_type='scenario')\n",
    ">>> print(scenario_cov)"
   ]
  },
  {
   "cell_type": "code",
   "execution_count": 66,
   "id": "e5a21690",
   "metadata": {},
   "outputs": [
    {
     "name": "stdout",
     "output_type": "stream",
     "text": [
      "  Scenario Sensor  Impact\n",
      "0       S1      A       0\n",
      "1       S1      C       0\n",
      "2       S2      A       0\n",
      "3       S2      C      10\n",
      "4       S3      A       0\n",
      "5       S3      C       0\n"
     ]
    }
   ],
   "source": [
    ">>> print(min_det_time)"
   ]
  },
  {
   "cell_type": "code",
   "execution_count": 67,
   "id": "5b985e0f",
   "metadata": {},
   "outputs": [
    {
     "name": "stdout",
     "output_type": "stream",
     "text": [
      "  Sensor      Coverage\n",
      "0      A  [S1, S2, S3]\n",
      "1      C  [S1, S2, S3]\n"
     ]
    }
   ],
   "source": [
    ">>> scenario_cov = chama.impact.impact_to_coverage(min_det_time)\n",
    ">>> print(scenario_cov)"
   ]
  },
  {
   "cell_type": "code",
   "execution_count": 68,
   "id": "849bab74",
   "metadata": {},
   "outputs": [
    {
     "name": "stdout",
     "output_type": "stream",
     "text": [
      "  Scenario Sensor  Impact\n",
      "0       S1      A       0\n",
      "1       S1      C       0\n",
      "2       S2      A       0\n",
      "3       S2      C      10\n",
      "4       S3      A       0\n",
      "5       S3      C       0\n"
     ]
    }
   ],
   "source": [
    "#calculate optimization\n",
    "print(min_det_time)"
   ]
  },
  {
   "cell_type": "code",
   "execution_count": 69,
   "id": "25772168",
   "metadata": {},
   "outputs": [
    {
     "data": {
      "text/html": [
       "<div>\n",
       "<style scoped>\n",
       "    .dataframe tbody tr th:only-of-type {\n",
       "        vertical-align: middle;\n",
       "    }\n",
       "\n",
       "    .dataframe tbody tr th {\n",
       "        vertical-align: top;\n",
       "    }\n",
       "\n",
       "    .dataframe thead th {\n",
       "        text-align: right;\n",
       "    }\n",
       "</style>\n",
       "<table border=\"1\" class=\"dataframe\">\n",
       "  <thead>\n",
       "    <tr style=\"text-align: right;\">\n",
       "      <th></th>\n",
       "      <th>Sensor</th>\n",
       "      <th>Cost</th>\n",
       "    </tr>\n",
       "  </thead>\n",
       "  <tbody>\n",
       "    <tr>\n",
       "      <th>0</th>\n",
       "      <td>A</td>\n",
       "      <td>100</td>\n",
       "    </tr>\n",
       "    <tr>\n",
       "      <th>1</th>\n",
       "      <td>B</td>\n",
       "      <td>200</td>\n",
       "    </tr>\n",
       "    <tr>\n",
       "      <th>2</th>\n",
       "      <td>C</td>\n",
       "      <td>400</td>\n",
       "    </tr>\n",
       "    <tr>\n",
       "      <th>3</th>\n",
       "      <td>D</td>\n",
       "      <td>500</td>\n",
       "    </tr>\n",
       "  </tbody>\n",
       "</table>\n",
       "</div>"
      ],
      "text/plain": [
       "  Sensor  Cost\n",
       "0      A   100\n",
       "1      B   200\n",
       "2      C   400\n",
       "3      D   500"
      ]
     },
     "execution_count": 69,
     "metadata": {},
     "output_type": "execute_result"
    }
   ],
   "source": [
    "df = pd.read_csv('sensor.csv')\n",
    "sensor  = pd.DataFrame(data=df)\n",
    "sensor"
   ]
  },
  {
   "cell_type": "code",
   "execution_count": 70,
   "id": "77b63bd4",
   "metadata": {},
   "outputs": [
    {
     "data": {
      "text/html": [
       "<div>\n",
       "<style scoped>\n",
       "    .dataframe tbody tr th:only-of-type {\n",
       "        vertical-align: middle;\n",
       "    }\n",
       "\n",
       "    .dataframe tbody tr th {\n",
       "        vertical-align: top;\n",
       "    }\n",
       "\n",
       "    .dataframe thead th {\n",
       "        text-align: right;\n",
       "    }\n",
       "</style>\n",
       "<table border=\"1\" class=\"dataframe\">\n",
       "  <thead>\n",
       "    <tr style=\"text-align: right;\">\n",
       "      <th></th>\n",
       "      <th>Scenario</th>\n",
       "      <th>Undetected Impact</th>\n",
       "      <th>Probability</th>\n",
       "    </tr>\n",
       "  </thead>\n",
       "  <tbody>\n",
       "    <tr>\n",
       "      <th>0</th>\n",
       "      <td>S1</td>\n",
       "      <td>50</td>\n",
       "      <td>0.15</td>\n",
       "    </tr>\n",
       "    <tr>\n",
       "      <th>1</th>\n",
       "      <td>S2</td>\n",
       "      <td>250</td>\n",
       "      <td>0.50</td>\n",
       "    </tr>\n",
       "    <tr>\n",
       "      <th>2</th>\n",
       "      <td>S3</td>\n",
       "      <td>100</td>\n",
       "      <td>0.05</td>\n",
       "    </tr>\n",
       "    <tr>\n",
       "      <th>3</th>\n",
       "      <td>S4</td>\n",
       "      <td>75</td>\n",
       "      <td>0.20</td>\n",
       "    </tr>\n",
       "    <tr>\n",
       "      <th>4</th>\n",
       "      <td>S5</td>\n",
       "      <td>225</td>\n",
       "      <td>0.10</td>\n",
       "    </tr>\n",
       "  </tbody>\n",
       "</table>\n",
       "</div>"
      ],
      "text/plain": [
       "  Scenario  Undetected Impact  Probability\n",
       "0       S1                 50         0.15\n",
       "1       S2                250         0.50\n",
       "2       S3                100         0.05\n",
       "3       S4                 75         0.20\n",
       "4       S5                225         0.10"
      ]
     },
     "execution_count": 70,
     "metadata": {},
     "output_type": "execute_result"
    }
   ],
   "source": [
    "df = pd.read_csv('scenario.csv')\n",
    "scenario  = pd.DataFrame(data=df)\n",
    "scenario"
   ]
  },
  {
   "cell_type": "code",
   "execution_count": 71,
   "id": "6a76e78e",
   "metadata": {},
   "outputs": [],
   "source": [
    ">>> impactform = chama.optimize.ImpactFormulation()"
   ]
  },
  {
   "cell_type": "code",
   "execution_count": 85,
   "id": "ef4d3223",
   "metadata": {},
   "outputs": [],
   "source": [
    "results = impactform.solve(impact=min_det_time, sensor_budget=1000, \n",
    "                           sensor=sensor, scenario=scenario, \n",
    "                           use_scenario_probability=True, use_sensor_cost=True)"
   ]
  },
  {
   "cell_type": "code",
   "execution_count": 86,
   "id": "aafd47b3",
   "metadata": {},
   "outputs": [
    {
     "name": "stdout",
     "output_type": "stream",
     "text": [
      "['A']\n"
     ]
    }
   ],
   "source": [
    "print(results['Sensors'])"
   ]
  },
  {
   "cell_type": "code",
   "execution_count": 74,
   "id": "56d82f54",
   "metadata": {},
   "outputs": [
    {
     "name": "stdout",
     "output_type": "stream",
     "text": [
      "37.5\n"
     ]
    }
   ],
   "source": [
    "print(results['Objective'])"
   ]
  },
  {
   "cell_type": "code",
   "execution_count": 75,
   "id": "6d0ca34c",
   "metadata": {},
   "outputs": [
    {
     "name": "stdout",
     "output_type": "stream",
     "text": [
      "  Scenario Sensor  Impact\n",
      "0       S1      A       0\n",
      "1       S2      A       0\n",
      "2       S3      A       0\n",
      "3       S4   None      75\n",
      "4       S5   None     225\n"
     ]
    }
   ],
   "source": [
    "print(results['Assessment'])"
   ]
  },
  {
   "cell_type": "code",
   "execution_count": 87,
   "id": "ece54170",
   "metadata": {},
   "outputs": [
    {
     "name": "stderr",
     "output_type": "stream",
     "text": [
      "C:\\Users\\evladmin\\anaconda3\\lib\\site-packages\\chama\\graphics.py:98: UserWarning: Matplotlib is currently using module://ipykernel.pylab.backend_inline, which is a non-GUI backend, so cannot show the figure.\n",
      "  fig.show()\n"
     ]
    },
    {
     "data": {
      "image/png": "[encoded data removed]",
      "text/plain": [
       "<Figure size 432x288 with 1 Axes>"
      ]
     },
     "metadata": {
      "needs_background": "light"
     },
     "output_type": "display_data"
    }
   ],
   "source": [
    "chama.graphics.signal_convexhull(signal, scenarios=['S1', 'S2', 'S3'], threshold=0.0)"
   ]
  },
  {
   "cell_type": "code",
   "execution_count": 88,
   "id": "6a461833",
   "metadata": {},
   "outputs": [
    {
     "name": "stderr",
     "output_type": "stream",
     "text": [
      "C:\\Users\\evladmin\\anaconda3\\lib\\site-packages\\chama\\graphics.py:234: UserWarning: Matplotlib is currently using module://ipykernel.pylab.backend_inline, which is a non-GUI backend, so cannot show the figure.\n",
      "  fig.show()\n"
     ]
    },
    {
     "data": {
      "image/png": "[encoded data removed]",
      "text/plain": [
       "<Figure size 1440x360 with 6 Axes>"
      ]
     },
     "metadata": {
      "needs_background": "light"
     },
     "output_type": "display_data"
    }
   ],
   "source": [
    "chama.graphics.signal_xsection(signal, 'S3', threshold=0.01)"
   ]
  },
  {
   "cell_type": "code",
   "execution_count": 79,
   "id": "e12b80f4",
   "metadata": {},
   "outputs": [
    {
     "name": "stderr",
     "output_type": "stream",
     "text": [
      "C:\\Users\\evladmin\\anaconda3\\lib\\site-packages\\chama\\graphics.py:399: UserWarning: Matplotlib is currently using module://ipykernel.pylab.backend_inline, which is a non-GUI backend, so cannot show the figure.\n",
      "  fig.show()\n"
     ]
    },
    {
     "data": {
      "image/png": "[encoded data removed]",
      "text/plain": [
       "<Figure size 432x288 with 1 Axes>"
      ]
     },
     "metadata": {
      "needs_background": "light"
     },
     "output_type": "display_data"
    }
   ],
   "source": [
    "chama.graphics.sensor_locations(sensors)"
   ]
  },
  {
   "cell_type": "code",
   "execution_count": 80,
   "id": "36f02211",
   "metadata": {},
   "outputs": [
    {
     "name": "stdout",
     "output_type": "stream",
     "text": [
      "  Scenario Sensor  Impact\n",
      "0       S1      A       0\n",
      "1       S2      A       0\n",
      "2       S3      A       0\n",
      "3       S4   None      75\n",
      "4       S5   None     225\n"
     ]
    }
   ],
   "source": [
    "print(results['Assessment'])"
   ]
  },
  {
   "cell_type": "code",
   "execution_count": 81,
   "id": "d771365f",
   "metadata": {},
   "outputs": [
    {
     "data": {
      "text/plain": [
       "<AxesSubplot:>"
      ]
     },
     "execution_count": 81,
     "metadata": {},
     "output_type": "execute_result"
    },
    {
     "data": {
      "image/png": "[encoded data removed]",
      "text/plain": [
       "<Figure size 432x288 with 1 Axes>"
      ]
     },
     "metadata": {
      "needs_background": "light"
     },
     "output_type": "display_data"
    }
   ],
   "source": [
    "results['Assessment'].plot(kind='bar')"
   ]
  },
  {
   "cell_type": "code",
   "execution_count": null,
   "id": "04e88dd6",
   "metadata": {},
   "outputs": [],
   "source": []
  }
 ],
 "metadata": {
  "kernelspec": {
   "display_name": "Python 3",
   "language": "python",
   "name": "python3"
  },
  "language_info": {
   "codemirror_mode": {
    "name": "ipython",
    "version": 3
   },
   "file_extension": ".py",
   "mimetype": "text/x-python",
   "name": "python",
   "nbconvert_exporter": "python",
   "pygments_lexer": "ipython3",
   "version": "3.8.8"
  }
 },
 "nbformat": 4,
 "nbformat_minor": 5
}
